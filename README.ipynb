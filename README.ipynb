{
 "cells": [
  {
   "attachments": {},
   "cell_type": "markdown",
   "metadata": {},
   "source": [
    "# 3-compartment-maturation\n",
    "The 3 compartment model used in my dissertation research converted from Matlab to Julia. This won't have tyhe full functionality of my dissertation code but shopuld provide the necessary ideas to undertand the project and analysis"
   ]
  },
  {
   "attachments": {},
   "cell_type": "markdown",
   "metadata": {},
   "source": [
    "## Code Organization\n",
    "- Tutorial\n",
    "    - Holds files for the storage of code written following tutorials and Julia teaching material.\n",
    "    - Sources:\n",
    "        - Julia Programming Language Youtube"
   ]
  },
  {
   "attachments": {},
   "cell_type": "markdown",
   "metadata": {},
   "source": [
    "## Overview\n",
    "\n",
    "![MATLAB overview](./Tutorial/Images/ModelOverviewFit2All.png)\n",
    "\n",
    "Different cooperativity is critical for parameter sets to fit to the \\textit{in vivo} data over both timescales.\n",
    "a) Schematic of our three compartment centrosome maturation model. The model factor can transfer from the two centrosome compartments to the cytoplasm compartment. The centrosome compartments are designed to follow the same types of dynamics where parameters will determine the strength of each dynamic. \n",
    "b-c) A simulated annealing random parameter search finds the set of parameters that best matches to the in vivo data. Parameter sets produce simulated curves that match to (b) recruitment and (c) recovery. Red dotted lines indicates the time of PNM, when the FRAP started.\n",
    "d) Histogram of the values $n_1-n_2$ showing the difference in cooperativity between compartments. \n",
    "e-f) Plots of carrying capacity vs ratio of on rate to off rate colored by the cooperativity value in te collor bar for (e) the leading compartment and (f) the lagging compartment.\n",
    "g) Correlation of the cytoplasmic on and off rates showing linear regression of y=-0.003+1.21X in red with an R^2=0.9995."
   ]
  }
 ],
 "metadata": {
  "kernelspec": {
   "display_name": "Python 3",
   "language": "python",
   "name": "python3"
  },
  "language_info": {
   "name": "python",
   "version": "3.10.10"
  },
  "orig_nbformat": 4
 },
 "nbformat": 4,
 "nbformat_minor": 2
}
