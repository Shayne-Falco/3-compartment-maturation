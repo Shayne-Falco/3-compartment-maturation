{
 "cells": [
  {
   "attachments": {},
   "cell_type": "markdown",
   "metadata": {},
   "source": [
    "# 3-compartment-maturation\n",
    "The 3 compartment model used in my dissertation research converted from Matlab to Julia. This won't have tyhe full functionality of my dissertation code but shopuld provide the necessary ideas to undertand the project and analysis"
   ]
  }
 ],
 "metadata": {
  "kernelspec": {
   "display_name": "Python 3",
   "language": "python",
   "name": "python3"
  },
  "language_info": {
   "name": "python",
   "version": "3.10.10"
  },
  "orig_nbformat": 4
 },
 "nbformat": 4,
 "nbformat_minor": 2
}
